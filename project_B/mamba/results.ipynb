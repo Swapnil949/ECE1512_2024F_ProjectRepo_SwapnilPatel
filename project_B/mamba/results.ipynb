{
 "cells": [
  {
   "cell_type": "code",
   "execution_count": null,
   "metadata": {},
   "outputs": [],
   "source": [
    "import matplotlib.pyplot as plt\n",
    "import numpy as np\n",
    "\n",
    "\"\"\"\n",
    "ViT Fine-tuning data\n",
    "Epoch\tTrain Acc\tTest Acc\n",
    "1\t0.8359\t0.8797\n",
    "2\t0.9333\t0.8843\n",
    "3\t0.9571\t0.8836\n",
    "4\t0.9665\t0.8799\n",
    "5\t0.9733\t0.8790\n",
    "\n",
    "MambaVision Fine-tuning data\n",
    "Epoch\tTrain Acc\tTest Acc\n",
    "1\t0.7408\t0.8444\n",
    "2\t0.8754\t0.8682\n",
    "3\t0.9134\t0.8655\n",
    "4\t0.9323\t0.8681\n",
    "5\t0.9464\t0.8618\n",
    "\"\"\"\n",
    "vit_train_acc = [0.8359, 0.9333, 0.9571, 0.9665, 0.9733]\n",
    "vit_test_acc = [0.8797, 0.8843, 0.8836, 0.8799, 0.8790]\n",
    "mv_train_acc = [0.7408, 0.8754, 0.9134, 0.9323, 0.9464]\n",
    "mv_test_acc = [0.8444, 0.8682, 0.8655, 0.8681, 0.8618]\n"
   ]
  },
  {
   "cell_type": "code",
   "execution_count": null,
   "metadata": {},
   "outputs": [],
   "source": [
    "# plot 6x4 figure\n",
    "fig = plt.figure(figsize=(6, 4))\n",
    "plt.plot(np.arange(1, 6), vit_train_acc, label='ViT Train Acc', color='lightsalmon', linestyle='--', marker='o')\n",
    "plt.plot(np.arange(1, 6), vit_test_acc, label='ViT Test Acc', color='lightsalmon', linestyle='-', marker='o')\n",
    "plt.plot(np.arange(1, 6), mv_train_acc, label='MambaVision Train Acc', color='royalblue', linestyle='--', marker='o')\n",
    "plt.plot(np.arange(1, 6), mv_test_acc, label='MambaVision Test Acc', color='royalblue', linestyle='-', marker='o')\n",
    "plt.xticks(np.arange(1, 6))\n",
    "plt.xlabel('Epoch')\n",
    "plt.ylabel('Accuracy')\n",
    "plt.title('ViT Fine-tuning')\n",
    "plt.legend()\n",
    "plt.savefig('../report/figures/vit_fine_tuning.png')"
   ]
  },
  {
   "cell_type": "code",
   "execution_count": null,
   "metadata": {},
   "outputs": [],
   "source": [
    "# inference records\n",
    "\n",
    "\"\"\"\n",
    "ViT Inference data\n",
    "Accuracy: 0.8790\n",
    "Total inference time: 215.16 seconds\n",
    "Average time per image: 0.0215 seconds\n",
    "\n",
    "\n",
    "MambaVision Inference data\n",
    "Accuracy: 0.8617\n",
    "Total inference time: 146.37 seconds\n",
    "Average time per image: 0.0146 seconds\n",
    "\n",
    "\"\"\"\n",
    "\n",
    "vit_acc = 0.8790\n",
    "vit_total_time = 215.16\n",
    "vit_avg_time = 0.0215\n",
    "vit_throughput = 1/vit_avg_time\n",
    "\n",
    "\n",
    "mv_acc = 0.8617\n",
    "mv_total_time = 146.37\n",
    "mv_avg_time = 0.0146\n",
    "mv_throughput = 1/mv_avg_time\n",
    "\n",
    "# print table for inference records\n",
    "print('Inference Records')\n",
    "print('Model\\tAccuracy\\tTotal Time\\tAverage Time\\tThroughput')\n",
    "print(f'ViT\\t{vit_acc}\\t{vit_total_time}\\t{vit_avg_time}\\t{vit_throughput}')\n",
    "print(f'MambaVision\\t{mv_acc}\\t{mv_total_time}\\t{mv_avg_time}\\t{mv_throughput}')\n"
   ]
  },
  {
   "cell_type": "code",
   "execution_count": null,
   "metadata": {},
   "outputs": [],
   "source": [
    "# accuracy vs throughput (img/s) plot, accuracy y axis\n",
    "# x axis should be throughput\n",
    "fig = plt.figure(figsize=(6, 4))\n",
    "plt.plot(vit_throughput, vit_acc*100, label='ViT', color='lightsalmon', marker='o', markersize=10)\n",
    "plt.plot(mv_throughput, mv_acc*100, label='MambaVision', color='royalblue', marker='o', markersize=10)\n",
    "plt.xticks(np.arange(20, 100, 10))\n",
    "plt.yticks(np.arange(80, 100, 5))\n",
    "plt.xlabel('Throughput (img/s)')\n",
    "plt.ylabel('Accuracy (%)')\n",
    "plt.legend()\n",
    "plt.title('Accuracy vs Throughput')\n",
    "plt.savefig('../report/figures/accuracy_vs_throughput.png')\n"
   ]
  },
  {
   "cell_type": "code",
   "execution_count": null,
   "metadata": {},
   "outputs": [],
   "source": [
    "# plot CIFAR100 sample datasets\n",
    "# 10 classes, 10 images per class\n",
    "# 10x10 figure\n",
    "import torchvision.datasets as datasets\n",
    "\n",
    "cifar100 = datasets.CIFAR100(root='./data', train=True, download=True)\n"
   ]
  },
  {
   "cell_type": "code",
   "execution_count": null,
   "metadata": {},
   "outputs": [],
   "source": [
    "# Load CIFAR-100 dataset\n",
    "cifar100 = datasets.CIFAR100(root='./data', train=True, download=True)\n",
    "classes = cifar100.classes\n",
    "\n",
    "# Group images by class\n",
    "class_to_images = {cls: [] for cls in range(100)}\n",
    "for img, label in cifar100:\n",
    "    if len(class_to_images[label]) < 10:  # Only collect 10 samples per class\n",
    "        class_to_images[label].append(img)\n",
    "\n",
    "# Plot 10 classes with 10 images per class\n",
    "fig, axes = plt.subplots(10, 10, figsize=(10, 10))\n",
    "\n",
    "for row, class_id in enumerate(range(10)):  # Select the first 10 classes\n",
    "    for col in range(10):  # 10 images per class\n",
    "        axes[row, col].imshow(class_to_images[class_id][col])\n",
    "        axes[row, col].axis('off')\n",
    "\n",
    "# Display the figure\n",
    "plt.tight_layout()\n",
    "plt.savefig('../report/figures/cifar100_sample.png')"
   ]
  }
 ],
 "metadata": {
  "kernelspec": {
   "display_name": "mamba",
   "language": "python",
   "name": "python3"
  },
  "language_info": {
   "codemirror_mode": {
    "name": "ipython",
    "version": 3
   },
   "file_extension": ".py",
   "mimetype": "text/x-python",
   "name": "python",
   "nbconvert_exporter": "python",
   "pygments_lexer": "ipython3",
   "version": "3.10.15"
  }
 },
 "nbformat": 4,
 "nbformat_minor": 2
}
