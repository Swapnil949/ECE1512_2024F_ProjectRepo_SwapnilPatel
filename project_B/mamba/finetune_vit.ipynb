{
 "cells": [
  {
   "cell_type": "code",
   "execution_count": 1,
   "metadata": {},
   "outputs": [
    {
     "name": "stdout",
     "output_type": "stream",
     "text": [
      "NVIDIA GeForce RTX 4090\n"
     ]
    }
   ],
   "source": [
    "from transformers import ViTForImageClassification, ViTImageProcessor\n",
    "from torchvision import datasets, transforms\n",
    "from torch.utils.data import DataLoader\n",
    "import torch\n",
    "import torch.nn as nn\n",
    "import torch.optim as optim\n",
    "from tqdm import tqdm\n",
    "\n",
    "# Check if GPU is available\n",
    "device = torch.device(\"cuda\" if torch.cuda.is_available() else \"cpu\")\n",
    "\n",
    "# print cuda device information\n",
    "print(torch.cuda.get_device_name(0))"
   ]
  },
  {
   "cell_type": "code",
   "execution_count": 2,
   "metadata": {},
   "outputs": [
    {
     "name": "stderr",
     "output_type": "stream",
     "text": [
      "Some weights of ViTForImageClassification were not initialized from the model checkpoint at google/vit-base-patch16-224 and are newly initialized because the shapes did not match:\n",
      "- classifier.bias: found shape torch.Size([1000]) in the checkpoint and torch.Size([100]) in the model instantiated\n",
      "- classifier.weight: found shape torch.Size([1000, 768]) in the checkpoint and torch.Size([100, 768]) in the model instantiated\n",
      "You should probably TRAIN this model on a down-stream task to be able to use it for predictions and inference.\n"
     ]
    },
    {
     "data": {
      "text/plain": [
       "ViTForImageClassification(\n",
       "  (vit): ViTModel(\n",
       "    (embeddings): ViTEmbeddings(\n",
       "      (patch_embeddings): ViTPatchEmbeddings(\n",
       "        (projection): Conv2d(3, 768, kernel_size=(16, 16), stride=(16, 16))\n",
       "      )\n",
       "      (dropout): Dropout(p=0.0, inplace=False)\n",
       "    )\n",
       "    (encoder): ViTEncoder(\n",
       "      (layer): ModuleList(\n",
       "        (0-11): 12 x ViTLayer(\n",
       "          (attention): ViTSdpaAttention(\n",
       "            (attention): ViTSdpaSelfAttention(\n",
       "              (query): Linear(in_features=768, out_features=768, bias=True)\n",
       "              (key): Linear(in_features=768, out_features=768, bias=True)\n",
       "              (value): Linear(in_features=768, out_features=768, bias=True)\n",
       "              (dropout): Dropout(p=0.0, inplace=False)\n",
       "            )\n",
       "            (output): ViTSelfOutput(\n",
       "              (dense): Linear(in_features=768, out_features=768, bias=True)\n",
       "              (dropout): Dropout(p=0.0, inplace=False)\n",
       "            )\n",
       "          )\n",
       "          (intermediate): ViTIntermediate(\n",
       "            (dense): Linear(in_features=768, out_features=3072, bias=True)\n",
       "            (intermediate_act_fn): GELUActivation()\n",
       "          )\n",
       "          (output): ViTOutput(\n",
       "            (dense): Linear(in_features=3072, out_features=768, bias=True)\n",
       "            (dropout): Dropout(p=0.0, inplace=False)\n",
       "          )\n",
       "          (layernorm_before): LayerNorm((768,), eps=1e-12, elementwise_affine=True)\n",
       "          (layernorm_after): LayerNorm((768,), eps=1e-12, elementwise_affine=True)\n",
       "        )\n",
       "      )\n",
       "    )\n",
       "    (layernorm): LayerNorm((768,), eps=1e-12, elementwise_affine=True)\n",
       "  )\n",
       "  (classifier): Linear(in_features=768, out_features=100, bias=True)\n",
       ")"
      ]
     },
     "execution_count": 2,
     "metadata": {},
     "output_type": "execute_result"
    }
   ],
   "source": [
    "\n",
    "# Load Pre-Trained ViT Model\n",
    "model = ViTForImageClassification.from_pretrained(\n",
    "    \"google/vit-base-patch16-224\",\n",
    "    num_labels=100,  # Adjust for CIFAR-100\n",
    "    id2label={i: str(i) for i in range(100)},\n",
    "    label2id={str(i): i for i in range(100)},\n",
    "    ignore_mismatched_sizes=True  # Ignore size mismatch for the classification head\n",
    ")\n",
    "model.to(device)\n"
   ]
  },
  {
   "cell_type": "code",
   "execution_count": 3,
   "metadata": {},
   "outputs": [],
   "source": [
    "processor = ViTImageProcessor.from_pretrained('google/vit-base-patch16-224')"
   ]
  },
  {
   "cell_type": "code",
   "execution_count": 4,
   "metadata": {},
   "outputs": [
    {
     "name": "stdout",
     "output_type": "stream",
     "text": [
      "Files already downloaded and verified\n",
      "Files already downloaded and verified\n"
     ]
    }
   ],
   "source": [
    "# Data Preprocessing\n",
    "train_transform = transforms.Compose([\n",
    "    transforms.Resize((224, 224)),\n",
    "    #transforms.RandomHorizontalFlip(),\n",
    "    transforms.ToTensor(),\n",
    "    transforms.Normalize(mean=processor.image_mean, std=processor.image_std),\n",
    "])\n",
    "\n",
    "test_transform = transforms.Compose([\n",
    "    transforms.Resize((224, 224)),\n",
    "    transforms.ToTensor(),\n",
    "    transforms.Normalize(mean=processor.image_mean, std=processor.image_std),\n",
    "])\n",
    "\n",
    "# Load CIFAR-100 Dataset\n",
    "train_dataset = datasets.CIFAR100(root=\"./data\", train=True, download=True, transform=train_transform)\n",
    "test_dataset = datasets.CIFAR100(root=\"./data\", train=False, download=True, transform=test_transform)\n",
    "\n",
    "train_loader = DataLoader(train_dataset, batch_size=32, shuffle=True)\n",
    "test_loader = DataLoader(test_dataset, batch_size=32, shuffle=False)\n"
   ]
  },
  {
   "cell_type": "code",
   "execution_count": 5,
   "metadata": {},
   "outputs": [
    {
     "name": "stderr",
     "output_type": "stream",
     "text": [
      "Epoch 1/5 - Train Acc: 0.8359 - Val Acc: 0.8797: 100%|██████████| 1876/1876 [04:13<00:00,  7.39batch/s]\n",
      "Epoch 2/5 - Train Acc: 0.9333 - Val Acc: 0.8843: 100%|██████████| 1876/1876 [04:10<00:00,  7.50batch/s]\n",
      "Epoch 3/5 - Train Acc: 0.9571 - Val Acc: 0.8836: 100%|██████████| 1876/1876 [04:07<00:00,  7.58batch/s]\n",
      "Epoch 4/5 - Train Acc: 0.9665 - Val Acc: 0.8799: 100%|██████████| 1876/1876 [04:12<00:00,  7.43batch/s]\n",
      "Epoch 5/5 - Train Acc: 0.9733 - Val Acc: 0.8790: 100%|██████████| 1876/1876 [04:09<00:00,  7.52batch/s]\n"
     ]
    }
   ],
   "source": [
    "def train_and_evaluate_model(model, train_loader, test_loader, optimizer, criterion, device, num_epochs):\n",
    "    train_acc = []\n",
    "    test_acc = []\n",
    "    for epoch in range(num_epochs):\n",
    "        # Initialize a new progress bar for each epoch\n",
    "        progress_bar = tqdm(total=len(train_loader) + len(test_loader), desc=f\"Epoch {epoch + 1}/{num_epochs} - Train Acc: 0.000 - Val Acc: 0.000\", unit=\"batch\")\n",
    "        \n",
    "        # Initialize variables for training phase\n",
    "        train_correct = 0\n",
    "        train_total = 0\n",
    "        \n",
    "        # Training Phase\n",
    "        model.train()\n",
    "        for images, labels in train_loader:\n",
    "            images, labels = images.to(device), labels.to(device)\n",
    "            optimizer.zero_grad()\n",
    "            outputs = model(pixel_values=images)\n",
    "            loss = criterion(outputs.logits, labels)\n",
    "            loss.backward()\n",
    "            optimizer.step()\n",
    "            \n",
    "            _, predicted = outputs.logits.max(1)\n",
    "            train_correct += predicted.eq(labels).sum().item()\n",
    "            train_total += labels.size(0)\n",
    "            \n",
    "            # Update training accuracy\n",
    "            train_accuracy = train_correct / train_total\n",
    "            progress_bar.set_description(f\"Epoch {epoch + 1}/{num_epochs} - Train Acc: {train_accuracy:.4f}\")\n",
    "            progress_bar.update(1)  # Update progress bar for each training batch\n",
    "        \n",
    "        train_acc.append(train_accuracy)\n",
    "        \n",
    "        # Initialize variables for validation phase\n",
    "        val_correct = 0\n",
    "        val_total = 0\n",
    "        \n",
    "        # Validation Phase\n",
    "        model.eval()\n",
    "        with torch.no_grad():\n",
    "            for images, labels in test_loader:\n",
    "                images, labels = images.to(device), labels.to(device)\n",
    "                outputs = model(pixel_values=images)\n",
    "                loss = criterion(outputs.logits, labels)\n",
    "                \n",
    "                _, predicted = outputs.logits.max(1)\n",
    "                val_correct += predicted.eq(labels).sum().item()\n",
    "                val_total += labels.size(0)\n",
    "                \n",
    "                # Update validation accuracy\n",
    "                val_accuracy = val_correct / val_total\n",
    "                progress_bar.set_description(f\"Epoch {epoch + 1}/{num_epochs} - Train Acc: {train_accuracy:.4f} - Val Acc: {val_accuracy:.4f}\")\n",
    "                progress_bar.update(1)  # Update progress bar for each validation batch\n",
    "                \n",
    "        test_acc.append(val_accuracy)\n",
    "\n",
    "        # Reset the progress bar description for the next epoch\n",
    "        progress_bar.set_description(f\"Epoch {epoch + 1}/{num_epochs} - Train Acc: {train_accuracy:.4f} - Val Acc: {val_accuracy:.4f}\")\n",
    "        progress_bar.close()\n",
    "        \n",
    "    return train_acc, test_acc\n",
    "\n",
    "# Call the function\n",
    "num_epochs = 5\n",
    "# Loss Function and Optimizer\n",
    "criterion = nn.CrossEntropyLoss()\n",
    "optimizer = optim.AdamW(model.parameters(), lr=0.0001, weight_decay=0.01)\n",
    "train_acc, test_acc = train_and_evaluate_model(model, train_loader, test_loader, optimizer, criterion, device, num_epochs)\n",
    "\n",
    "# Save the Fine-Tuned Model\n",
    "model.save_pretrained(\"./vit-finetuned-cifar100\")"
   ]
  },
  {
   "cell_type": "code",
   "execution_count": 6,
   "metadata": {},
   "outputs": [
    {
     "name": "stdout",
     "output_type": "stream",
     "text": [
      "Epoch\tTrain Acc\tTest Acc\n",
      "1\t0.8359\t0.8797\n",
      "2\t0.9333\t0.8843\n",
      "3\t0.9571\t0.8836\n",
      "4\t0.9665\t0.8799\n",
      "5\t0.9733\t0.8790\n"
     ]
    }
   ],
   "source": [
    "# print table of train and test accuracy\n",
    "print(\"Epoch\\tTrain Acc\\tTest Acc\")\n",
    "for i in range(num_epochs):\n",
    "    print(f\"{i + 1}\\t{train_acc[i]:.4f}\\t{test_acc[i]:.4f}\")\n"
   ]
  },
  {
   "cell_type": "code",
   "execution_count": 7,
   "metadata": {},
   "outputs": [
    {
     "data": {
      "image/png": "[encoded data removed]",
      "text/plain": [
       "<Figure size 600x400 with 1 Axes>"
      ]
     },
     "metadata": {},
     "output_type": "display_data"
    }
   ],
   "source": [
    "# Plot train and test accuracy\n",
    "import matplotlib.pyplot as plt\n",
    "\n",
    "plt.figure(figsize=(6, 4))\n",
    "plt.plot(range(1, num_epochs + 1), train_acc, label=\"Train Accuracy\", marker=\"o\")\n",
    "plt.plot(range(1, num_epochs + 1), test_acc, label=\"Test Accuracy\", marker=\"o\")\n",
    "plt.title(\"Training Progress\")\n",
    "plt.ylabel(\"Accuracy\")\n",
    "plt.xlabel(\"Epoch\")\n",
    "plt.legend()\n",
    "plt.xticks(range(1, num_epochs + 1))\n",
    "plt.show()"
   ]
  },
  {
   "cell_type": "code",
   "execution_count": 8,
   "metadata": {},
   "outputs": [
    {
     "data": {
      "application/vnd.jupyter.widget-view+json": {
       "model_id": "e0bc75c2d35d49848643415b1270f60f",
       "version_major": 2,
       "version_minor": 0
      },
      "text/plain": [
       "README.md:   0%|          | 0.00/5.17k [00:00<?, ?B/s]"
      ]
     },
     "metadata": {},
     "output_type": "display_data"
    },
    {
     "data": {
      "application/vnd.jupyter.widget-view+json": {
       "model_id": "77e5b8c4276644f9bf78af3291f489f0",
       "version_major": 2,
       "version_minor": 0
      },
      "text/plain": [
       "model.safetensors:   0%|          | 0.00/344M [00:00<?, ?B/s]"
      ]
     },
     "metadata": {},
     "output_type": "display_data"
    },
    {
     "data": {
      "text/plain": [
       "CommitInfo(commit_url='https://huggingface.co/Swapnil949/vit-finetuned-cifar100/commit/15689ace02f569b11873b059533856b3f3b0b30a', commit_message='Upload ViTForImageClassification', commit_description='', oid='15689ace02f569b11873b059533856b3f3b0b30a', pr_url=None, repo_url=RepoUrl('https://huggingface.co/Swapnil949/vit-finetuned-cifar100', endpoint='https://huggingface.co', repo_type='model', repo_id='Swapnil949/vit-finetuned-cifar100'), pr_revision=None, pr_num=None)"
      ]
     },
     "execution_count": 8,
     "metadata": {},
     "output_type": "execute_result"
    }
   ],
   "source": [
    "from huggingface_hub import PyTorchModelHubMixin\n",
    "model.push_to_hub(\"Swapnil949/vit-finetuned-cifar100\", use_temp_dir=True)"
   ]
  },
  {
   "cell_type": "code",
   "execution_count": 9,
   "metadata": {},
   "outputs": [
    {
     "name": "stderr",
     "output_type": "stream",
     "text": [
      "Processing batches: 100%|██████████| 10000/10000 [02:26<00:00, 68.32img/s]"
     ]
    },
    {
     "name": "stdout",
     "output_type": "stream",
     "text": [
      "Accuracy: 0.8790\n",
      "Total inference time: 146.37 seconds\n",
      "Average time per image: 0.0146 seconds\n"
     ]
    },
    {
     "name": "stderr",
     "output_type": "stream",
     "text": [
      "\n"
     ]
    }
   ],
   "source": [
    "import time\n",
    "correct = 0\n",
    "total = 0\n",
    "\n",
    "test_loader = DataLoader(test_dataset, batch_size=1, shuffle=False)\n",
    "\n",
    "model.eval()\n",
    "model.to(device)\n",
    "\n",
    "# Start timing\n",
    "start_time = time.time()\n",
    "\n",
    "# Add a tqdm progress bar\n",
    "for images, labels in tqdm(test_loader, desc=\"Processing batches\", unit=\"img\"):\n",
    "    images, labels = images.to(device), labels.to(device)\n",
    "    outputs = model(images)\n",
    "    _, predicted = outputs.logits.max(1)\n",
    "    correct += predicted.eq(labels).sum().item()\n",
    "    total += labels.size(0)\n",
    "\n",
    "# End timing\n",
    "end_time = time.time()\n",
    "\n",
    "# Calculate and print total elapsed time\n",
    "elapsed_time = end_time - start_time\n",
    "print(f\"Accuracy: {correct / total:.4f}\")\n",
    "print(f\"Total inference time: {elapsed_time:.2f} seconds\")\n",
    "print(f\"Average time per image: {elapsed_time / len(test_loader):.4f} seconds\")\n"
   ]
  }
 ],
 "metadata": {
  "kernelspec": {
   "display_name": "mamba",
   "language": "python",
   "name": "python3"
  },
  "language_info": {
   "codemirror_mode": {
    "name": "ipython",
    "version": 3
   },
   "file_extension": ".py",
   "mimetype": "text/x-python",
   "name": "python",
   "nbconvert_exporter": "python",
   "pygments_lexer": "ipython3",
   "version": "3.10.15"
  }
 },
 "nbformat": 4,
 "nbformat_minor": 2
}
