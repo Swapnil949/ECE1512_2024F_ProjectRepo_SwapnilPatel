{
 "cells": [
  {
   "cell_type": "code",
   "execution_count": 1,
   "metadata": {},
   "outputs": [
    {
     "name": "stdout",
     "output_type": "stream",
     "text": [
      "Not running in Google Colab. Google Drive will not be mounted.\n"
     ]
    }
   ],
   "source": [
    "try:\n",
    "    # Check if running in Google Colab\n",
    "    if 'google.colab' in str(get_ipython()):\n",
    "        from google.colab import drive\n",
    "        drive.mount('/content/drive')  # Mount Google Drive\n",
    "        %cd /content/drive/MyDrive/Colab Notebooks/project_a/src\n",
    "        !pip install thop\n",
    "    else:\n",
    "        print(\"Not running in Google Colab. Google Drive will not be mounted.\")\n",
    "except NameError:\n",
    "    print(\"Not running in an IPython environment.\")"
   ]
  },
  {
   "cell_type": "code",
   "execution_count": 2,
   "metadata": {},
   "outputs": [
    {
     "name": "stdout",
     "output_type": "stream",
     "text": [
      "PyTorch Version: 2.2.1\n",
      "CUDA Device: NVIDIA GeForce RTX 4090\n",
      "CUDA Compute Capability: 8.9\n",
      "Total Memory: 23.65 GB\n"
     ]
    }
   ],
   "source": [
    "import torch\n",
    "import torch.nn as nn\n",
    "import matplotlib.pyplot as plt\n",
    "import numpy as np\n",
    "import pandas as pd\n",
    "import seaborn as sns\n",
    "from torchvision.utils import save_image\n",
    "from thop import profile\n",
    "import sys\n",
    "from PIL import Image\n",
    "\n",
    "\n",
    "figures_dir = '../report/figures/'\n",
    "output_dir = '../output/'\n",
    "\n",
    "\n",
    "print(f\"PyTorch Version: {torch.__version__}\")\n",
    "if torch.cuda.is_available():\n",
    "    device = torch.device(\"cuda\")\n",
    "    device_name = torch.cuda.get_device_name(0)\n",
    "    properties = torch.cuda.get_device_properties(0)\n",
    "    compute_capability = f\"{properties.major}.{properties.minor}\"\n",
    "    total_memory = properties.total_memory / 1024**3\n",
    "\n",
    "    print(f\"CUDA Device: {device_name}\")\n",
    "    print(f\"CUDA Compute Capability: {compute_capability}\")\n",
    "    print(f\"Total Memory: {total_memory:.2f} GB\")\n",
    "else:\n",
    "    device = torch.device(\"cpu\")\n",
    "    print(\"GPU is not available\")\n",
    "\n"
   ]
  },
  {
   "cell_type": "code",
   "execution_count": 3,
   "metadata": {},
   "outputs": [],
   "source": [
    "from pathlib import Path\n",
    "import pandas as pd\n",
    "from PIL import Image\n",
    "from torch.utils.data import Dataset\n",
    "\n",
    "class MHISTDataset(Dataset):\n",
    "    def __init__(self, images_dir, annotations_file, train=True, transform=None):\n",
    "        \"\"\"\n",
    "        Args:\n",
    "            images_dir (str): Directory containing all images.\n",
    "            annotations_file (str): Path to the CSV file with annotations.\n",
    "            train (bool): Flag indicating whether to load the training or test partition.\n",
    "            transform (callable, optional): Optional transform to be applied on a sample.\n",
    "        \"\"\"\n",
    "        self.images_dir = Path(images_dir)\n",
    "        self.annotations = pd.read_csv(annotations_file)\n",
    "        self.transform = transform\n",
    "\n",
    "        # Filter annotations based on the partition\n",
    "        partition = 'train' if train else 'test'\n",
    "        self.annotations = self.annotations[self.annotations['Partition'] == partition]\n",
    "\n",
    "        # Map folder names to class labels\n",
    "        self.label_map = {\"HP\": 0, \"SSA\": 1}\n",
    "\n",
    "        # Gather image file paths and their corresponding labels\n",
    "        self.image_paths = self.annotations['Image Name'].apply(lambda x: self.images_dir / x).tolist()\n",
    "        self.labels = self.annotations['Majority Vote Label'].map(self.label_map).tolist()\n",
    "\n",
    "    def __len__(self):\n",
    "        return len(self.image_paths)\n",
    "\n",
    "    def __getitem__(self, idx):\n",
    "        # Get the image path and corresponding label\n",
    "        img_path = self.image_paths[idx]\n",
    "        image = Image.open(img_path)\n",
    "\n",
    "        label = self.labels[idx]\n",
    "        # Map label to class name, if 0 then HP, if 1 then SSA\n",
    "        name = \"HP\" if label == 0 else \"SSA\"\n",
    "\n",
    "        if self.transform:\n",
    "            image = self.transform(image)\n",
    "\n",
    "        return image, label"
   ]
  },
  {
   "cell_type": "markdown",
   "metadata": {},
   "source": [
    "## NAS"
   ]
  },
  {
   "cell_type": "code",
   "execution_count": 4,
   "metadata": {},
   "outputs": [],
   "source": [
    "class fc_Net(nn.Module):\n",
    "    def __init__(self, input_size, hidden_size, num_classes):\n",
    "        super(fc_Net, self).__init__()\n",
    "        \n",
    "        layers = []\n",
    "        for i in range(len(hidden_size)):\n",
    "            layers.append(nn.Linear(input_size if i == 0 else hidden_size[i-1], hidden_size[i]))\n",
    "            layers.append(nn.ReLU())\n",
    "            \n",
    "        self.hidden_layers = nn.Sequential(*layers)\n",
    "        self.output_layer = nn.Sequential(\n",
    "            nn.Linear(hidden_size[-1], num_classes),\n",
    "            nn.LogSoftmax(dim=1)\n",
    "        )\n",
    "    def forward(self, x):\n",
    "        x = x.view(x.size(0), -1)  # Flatten the input\n",
    "        activations = self.hidden_layers(x)\n",
    "        x = self.output_layer(activations)\n",
    "        return x"
   ]
  },
  {
   "cell_type": "code",
   "execution_count": 5,
   "metadata": {},
   "outputs": [],
   "source": [
    "from utils import get_dataset\n",
    "\n",
    "(\n",
    "    channel,\n",
    "    im_size,\n",
    "    num_classes,\n",
    "    class_names,\n",
    "    mean,\n",
    "    std,\n",
    "    train_MNIST_dataset,\n",
    "    test_MNIST_dataset,\n",
    "    test_MNIST_dataloader,\n",
    "    train_MNIST_dataloader,\n",
    ") = get_dataset(\"MNIST\", \"../datasets\")\n"
   ]
  },
  {
   "cell_type": "code",
   "execution_count": 6,
   "metadata": {},
   "outputs": [
    {
     "name": "stdout",
     "output_type": "stream",
     "text": [
      "20\n",
      "Option Combinations:  [[32, 32], [32, 64], [64, 32], [64, 64], [32, 32, 32, 32], [32, 32, 32, 64], [32, 32, 64, 32], [32, 32, 64, 64], [32, 64, 32, 32], [32, 64, 32, 64], [32, 64, 64, 32], [32, 64, 64, 64], [64, 32, 32, 32], [64, 32, 32, 64], [64, 32, 64, 32], [64, 32, 64, 64], [64, 64, 32, 32], [64, 64, 32, 64], [64, 64, 64, 32], [64, 64, 64, 64]]\n"
     ]
    }
   ],
   "source": [
    "def generate_combinations(options, layers):\n",
    "    if layers == 0:\n",
    "        return [[]]\n",
    "    smaller_combinations = generate_combinations(options, layers - 1)\n",
    "    return [combination + [option] for combination in smaller_combinations for option in options]\n",
    "\n",
    "\n",
    "input_size = channel * im_size[0] * im_size[1]  # 1 * 28 * 28\n",
    "output_size = num_classes  # 10\n",
    "\n",
    "layer_options = [2, 4]  # Number of hidden layers\n",
    "neuron_options = [32, 64]  # Number of neurons in each hidden layer\n",
    "\n",
    "option_combinations = []\n",
    "for layers in layer_options:\n",
    "    if layers == 1:\n",
    "        for neurons in neuron_options:\n",
    "            option_combinations.append([neurons])\n",
    "    else:\n",
    "        option_combinations += generate_combinations(neuron_options, layers)\n",
    "\n",
    "print(len( option_combinations))\n",
    "print( \"Option Combinations: \", option_combinations)"
   ]
  },
  {
   "cell_type": "code",
   "execution_count": 7,
   "metadata": {},
   "outputs": [
    {
     "name": "stdout",
     "output_type": "stream",
     "text": [
      "Total Steps: 37500\n",
      "Hidden Size: [32, 32], Accuracy: 0.9979\n",
      "Hidden Size: [32, 64], Accuracy: 0.9988\n",
      "Hidden Size: [64, 32], Accuracy: 0.9997\n",
      "Hidden Size: [64, 64], Accuracy: 0.9998\n",
      "Hidden Size: [32, 32, 32, 32], Accuracy: 0.9972\n",
      "Hidden Size: [32, 32, 32, 64], Accuracy: 0.9963\n",
      "Hidden Size: [32, 32, 64, 32], Accuracy: 0.9976\n",
      "Hidden Size: [32, 32, 64, 64], Accuracy: 0.9972\n",
      "Hidden Size: [32, 64, 32, 32], Accuracy: 0.9982\n",
      "Hidden Size: [32, 64, 32, 64], Accuracy: 0.9985\n",
      "Hidden Size: [32, 64, 64, 32], Accuracy: 0.9983\n",
      "Hidden Size: [32, 64, 64, 64], Accuracy: 0.9979\n",
      "Hidden Size: [64, 32, 32, 32], Accuracy: 0.9997\n",
      "Hidden Size: [64, 32, 32, 64], Accuracy: 0.9996\n",
      "Hidden Size: [64, 32, 64, 32], Accuracy: 0.9995\n",
      "Hidden Size: [64, 32, 64, 64], Accuracy: 0.9996\n",
      "Hidden Size: [64, 64, 32, 32], Accuracy: 0.9996\n",
      "Hidden Size: [64, 64, 32, 64], Accuracy: 0.9997\n",
      "Hidden Size: [64, 64, 64, 32], Accuracy: 0.9996\n",
      "Hidden Size: [64, 64, 64, 64], Accuracy: 0.9997\n"
     ]
    }
   ],
   "source": [
    "import time\n",
    "from tqdm.auto import tqdm\n",
    "\n",
    "lr = 0.01\n",
    "num_epochs = 20\n",
    "batch_size = 64\n",
    "\n",
    "(\n",
    "    channel,\n",
    "    im_size,\n",
    "    num_classes,\n",
    "    class_names,\n",
    "    mean,\n",
    "    std,\n",
    "    train_MNIST_dataset,\n",
    "    test_MNIST_dataset,\n",
    "    test_MNIST_dataloader,\n",
    "    train_MNIST_dataloader,\n",
    ") = get_dataset(\"MNIST\", \"../datasets\")\n",
    "\n",
    "steps = num_epochs * len(train_MNIST_dataloader)\n",
    "print(f\"Total Steps: {steps}\")\n",
    "\n",
    "start_time = time.time()\n",
    "best_architecture = None\n",
    "best_accuracy = 0.0\n",
    "\n",
    "for hidden_size in option_combinations:\n",
    "    model = fc_Net(input_size, hidden_size, output_size).to(device)\n",
    "    criterion = nn.CrossEntropyLoss().to(device)\n",
    "    optimizer = torch.optim.SGD(model.parameters(), lr=lr, momentum=0.9, weight_decay=0.0001)\n",
    "    sched = torch.optim.lr_scheduler.CosineAnnealingLR(optimizer, T_max=steps)\n",
    "    \n",
    "    for epoch in range(num_epochs):\n",
    "        model.train()\n",
    "        for images, labels in train_MNIST_dataloader:\n",
    "            images, labels = images.to(device), labels.to(device)\n",
    "            output = model(images)\n",
    "            loss = criterion(output, labels)\n",
    "            \n",
    "            optimizer.zero_grad()\n",
    "            loss.backward()\n",
    "            optimizer.step()\n",
    "            sched.step()\n",
    "            \n",
    "    model.eval()\n",
    "    with torch.no_grad():\n",
    "        correct = 0\n",
    "        total = 0\n",
    "        for images, labels in train_MNIST_dataloader:\n",
    "            images, labels = images.to(device), labels.to(device)\n",
    "            output = model(images)\n",
    "            _, predicted = torch.max(output.data, 1)\n",
    "            total += labels.size(0)\n",
    "            correct += (predicted == labels).sum().item()\n",
    "        acc = correct / total\n",
    "        print(f\"Hidden Size: {hidden_size}, Accuracy: {acc:.4f}\")  \n",
    "\n",
    "        if acc > best_accuracy:\n",
    "            best_accuracy = acc\n",
    "            best_architecture = hidden_size\n",
    "\n",
    "# elapsed time 1607.3 seconds\n"
   ]
  },
  {
   "cell_type": "code",
   "execution_count": 8,
   "metadata": {},
   "outputs": [
    {
     "name": "stdout",
     "output_type": "stream",
     "text": [
      "Best Architecture: [64, 64], Best Accuracy: 0.9998\n"
     ]
    }
   ],
   "source": [
    "print( f\"Best Architecture: {best_architecture}, Best Accuracy: {best_accuracy:.4f}\")"
   ]
  },
  {
   "cell_type": "code",
   "execution_count": 9,
   "metadata": {},
   "outputs": [],
   "source": [
    "from utils import TensorDataset\n",
    "def get_syn_dataset (sym_name):\n",
    "    syn_dataset_file = output_dir + sym_name\n",
    "    results = torch.load(syn_dataset_file, weights_only=True)\n",
    "    syn_imgs = results[0][0]\n",
    "    syn_labels = results[0][1]\n",
    "\n",
    "    syn_dataset = TensorDataset(syn_imgs, syn_labels)\n",
    "    channel = syn_imgs.shape[1]\n",
    "    num_classes = syn_labels.max().item() + 1\n",
    "    im_size = (syn_imgs.shape[2], syn_imgs.shape[3])\n",
    "\n",
    "    dataloader = torch.utils.data.DataLoader(syn_dataset, batch_size=32, shuffle=True)\n",
    "    return syn_dataset, channel, num_classes, im_size, dataloader"
   ]
  },
  {
   "cell_type": "code",
   "execution_count": 12,
   "metadata": {},
   "outputs": [
    {
     "name": "stdout",
     "output_type": "stream",
     "text": [
      "Total Steps: 80\n",
      "Hidden Size: [32, 32], Accuracy: 0.9200\n",
      "Hidden Size: [32, 64], Accuracy: 0.9500\n",
      "Hidden Size: [64, 32], Accuracy: 0.9400\n",
      "Hidden Size: [64, 64], Accuracy: 0.9600\n",
      "Hidden Size: [32, 32, 32, 32], Accuracy: 0.1000\n",
      "Hidden Size: [32, 32, 32, 64], Accuracy: 0.1000\n",
      "Hidden Size: [32, 32, 64, 32], Accuracy: 0.3500\n",
      "Hidden Size: [32, 32, 64, 64], Accuracy: 0.2400\n",
      "Hidden Size: [32, 64, 32, 32], Accuracy: 0.2000\n",
      "Hidden Size: [32, 64, 32, 64], Accuracy: 0.1100\n",
      "Hidden Size: [32, 64, 64, 32], Accuracy: 0.2700\n",
      "Hidden Size: [32, 64, 64, 64], Accuracy: 0.3700\n",
      "Hidden Size: [64, 32, 32, 32], Accuracy: 0.1900\n",
      "Hidden Size: [64, 32, 32, 64], Accuracy: 0.2600\n",
      "Hidden Size: [64, 32, 64, 32], Accuracy: 0.2200\n",
      "Hidden Size: [64, 32, 64, 64], Accuracy: 0.2000\n",
      "Hidden Size: [64, 64, 32, 32], Accuracy: 0.1100\n",
      "Hidden Size: [64, 64, 32, 64], Accuracy: 0.1800\n",
      "Hidden Size: [64, 64, 64, 32], Accuracy: 0.1600\n",
      "Hidden Size: [64, 64, 64, 64], Accuracy: 0.1000\n"
     ]
    }
   ],
   "source": [
    "import time\n",
    "\n",
    "lr = 0.01\n",
    "num_epochs = 20\n",
    "batch_size = 64\n",
    "\n",
    "syn_dataset, channel, num_classes, im_size, dataloader = get_syn_dataset('MNIST_real_res.pt')\n",
    "\n",
    "steps = num_epochs * len(dataloader)\n",
    "print(f\"Total Steps: {steps}\")\n",
    "\n",
    "start_time = time.time()\n",
    "best_architecture = None\n",
    "best_accuracy = 0.0\n",
    "\n",
    "for hidden_size in option_combinations:\n",
    "    model = fc_Net(input_size, hidden_size, output_size).to(device)\n",
    "    criterion = nn.CrossEntropyLoss().to(device)\n",
    "    optimizer = torch.optim.SGD(model.parameters(), lr=lr, momentum=0.9, weight_decay=0.0001)\n",
    "    sched = torch.optim.lr_scheduler.CosineAnnealingLR(optimizer, T_max=steps)\n",
    "\n",
    "    for epoch in range(num_epochs):\n",
    "        model.train()\n",
    "        for images, labels in dataloader:\n",
    "            images, labels = images.to(device), labels.to(device)\n",
    "            output = model(images)\n",
    "            loss = criterion(output, labels)\n",
    "            \n",
    "            optimizer.zero_grad()\n",
    "            loss.backward()\n",
    "            optimizer.step()\n",
    "            sched.step()\n",
    "            \n",
    "    model.eval()\n",
    "    with torch.no_grad():\n",
    "        correct = 0\n",
    "        total = 0\n",
    "        for images, labels in dataloader:\n",
    "            images, labels = images.to(device), labels.to(device)\n",
    "            output = model(images)\n",
    "            _, predicted = torch.max(output.data, 1)\n",
    "            total += labels.size(0)\n",
    "            correct += (predicted == labels).sum().item()\n",
    "        acc = correct / total\n",
    "        print(f\"Hidden Size: {hidden_size}, Accuracy: {acc:.4f}\")  \n",
    "\n",
    "        if acc > best_accuracy:\n",
    "            best_accuracy = acc\n",
    "            best_architecture = hidden_size\n",
    "\n",
    "# elapsed time 2.8 seonds\n"
   ]
  },
  {
   "cell_type": "code",
   "execution_count": 13,
   "metadata": {},
   "outputs": [
    {
     "name": "stdout",
     "output_type": "stream",
     "text": [
      "Best Architecture: [64, 64], Best Accuracy: 0.9600\n"
     ]
    }
   ],
   "source": [
    "print( f\"Best Architecture: {best_architecture}, Best Accuracy: {best_accuracy:.4f}\")"
   ]
  },
  {
   "cell_type": "code",
   "execution_count": 14,
   "metadata": {},
   "outputs": [
    {
     "name": "stdout",
     "output_type": "stream",
     "text": [
      "fc_Net(\n",
      "  (hidden_layers): Sequential(\n",
      "    (0): Linear(in_features=784, out_features=64, bias=True)\n",
      "    (1): ReLU()\n",
      "    (2): Linear(in_features=64, out_features=64, bias=True)\n",
      "    (3): ReLU()\n",
      "  )\n",
      "  (output_layer): Sequential(\n",
      "    (0): Linear(in_features=64, out_features=10, bias=True)\n",
      "    (1): LogSoftmax(dim=1)\n",
      "  )\n",
      ")\n"
     ]
    }
   ],
   "source": [
    "## train model with best architecture using the full dataset\n",
    "\n",
    "# Load the full dataset\n",
    "lr = 0.01\n",
    "num_epochs = 20\n",
    "batch_size = 64\n",
    "\n",
    "(\n",
    "    channel,\n",
    "    im_size,\n",
    "    num_classes,\n",
    "    class_names,\n",
    "    mean,\n",
    "    std,\n",
    "    train_MNIST_dataset,\n",
    "    test_MNIST_dataset,\n",
    "    test_MNIST_dataloader,\n",
    "    train_MNIST_dataloader,\n",
    ") = get_dataset(\"MNIST\", \"../datasets\")\n",
    "\n",
    "model = fc_Net(input_size, best_architecture, output_size).to(device)\n",
    "print(model)\n"
   ]
  },
  {
   "cell_type": "code",
   "execution_count": 17,
   "metadata": {},
   "outputs": [
    {
     "name": "stdout",
     "output_type": "stream",
     "text": [
      "Epoch [1/20], Accuracy: 0.9748\n",
      "Epoch [2/20], Accuracy: 0.9726\n",
      "Epoch [3/20], Accuracy: 0.9738\n",
      "Epoch [4/20], Accuracy: 0.9745\n",
      "Epoch [5/20], Accuracy: 0.9726\n",
      "Epoch [6/20], Accuracy: 0.9774\n",
      "Epoch [7/20], Accuracy: 0.9723\n",
      "Epoch [8/20], Accuracy: 0.9753\n",
      "Epoch [9/20], Accuracy: 0.9753\n",
      "Epoch [10/20], Accuracy: 0.9762\n",
      "Epoch [11/20], Accuracy: 0.9752\n",
      "Epoch [12/20], Accuracy: 0.9744\n",
      "Epoch [13/20], Accuracy: 0.9734\n",
      "Epoch [14/20], Accuracy: 0.9753\n",
      "Epoch [15/20], Accuracy: 0.9758\n",
      "Epoch [16/20], Accuracy: 0.9744\n",
      "Epoch [17/20], Accuracy: 0.9733\n",
      "Epoch [18/20], Accuracy: 0.9768\n",
      "Epoch [19/20], Accuracy: 0.9772\n",
      "Epoch [20/20], Accuracy: 0.9757\n",
      "elapsed time:  78.51036381721497\n"
     ]
    }
   ],
   "source": [
    "criterion = nn.CrossEntropyLoss().to(device)\n",
    "optimizer = torch.optim.SGD(model.parameters(), lr=lr, momentum=0.9, weight_decay=0.0001)\n",
    "sched = torch.optim.lr_scheduler.CosineAnnealingLR(optimizer, T_max=steps)\n",
    "start_time = time.time()\n",
    "orig_results = []\n",
    "for epoch in range(num_epochs):\n",
    "    model.train()\n",
    "    for images, labels in train_MNIST_dataloader:\n",
    "        images, labels = images.to(device), labels.to(device)\n",
    "        output = model(images)\n",
    "        loss = criterion(output, labels)\n",
    "        \n",
    "        optimizer.zero_grad()\n",
    "        loss.backward()\n",
    "        optimizer.step()\n",
    "        sched.step()\n",
    "        \n",
    "    model.eval()\n",
    "    with torch.no_grad():\n",
    "        correct = 0\n",
    "        total = 0\n",
    "        for images, labels in test_MNIST_dataloader:\n",
    "            images, labels = images.to(device), labels.to(device)\n",
    "            output = model(images)\n",
    "            _, predicted = torch.max(output.data, 1)\n",
    "            total += labels.size(0)\n",
    "            correct += (predicted == labels).sum().item()\n",
    "        acc = correct / total\n",
    "        orig_results.append(acc)\n",
    "        print(f\"Epoch [{epoch+1}/{num_epochs}], Accuracy: {acc:.4f}\")\n",
    "\n",
    "print(\"elapsed time: \", time.time() - start_time)"
   ]
  },
  {
   "cell_type": "code",
   "execution_count": 18,
   "metadata": {},
   "outputs": [
    {
     "name": "stdout",
     "output_type": "stream",
     "text": [
      "Epoch [1/20], Accuracy: 0.9761\n",
      "Epoch [2/20], Accuracy: 0.9763\n",
      "Epoch [3/20], Accuracy: 0.9769\n",
      "Epoch [4/20], Accuracy: 0.9774\n",
      "Epoch [5/20], Accuracy: 0.9771\n",
      "Epoch [6/20], Accuracy: 0.9775\n",
      "Epoch [7/20], Accuracy: 0.9775\n",
      "Epoch [8/20], Accuracy: 0.9777\n",
      "Epoch [9/20], Accuracy: 0.9778\n",
      "Epoch [10/20], Accuracy: 0.9778\n",
      "Epoch [11/20], Accuracy: 0.9778\n",
      "Epoch [12/20], Accuracy: 0.9777\n",
      "Epoch [13/20], Accuracy: 0.9777\n",
      "Epoch [14/20], Accuracy: 0.9777\n",
      "Epoch [15/20], Accuracy: 0.9777\n",
      "Epoch [16/20], Accuracy: 0.9777\n",
      "Epoch [17/20], Accuracy: 0.9777\n",
      "Epoch [18/20], Accuracy: 0.9777\n",
      "Epoch [19/20], Accuracy: 0.9777\n",
      "Epoch [20/20], Accuracy: 0.9777\n",
      "elapsed time:  11.104322910308838\n"
     ]
    }
   ],
   "source": [
    "lr = 0.01\n",
    "num_epochs = 20\n",
    "batch_size = 64\n",
    "\n",
    "syn_dataset, channel, num_classes, im_size, dataloader = get_syn_dataset('MNIST_real_res.pt')\n",
    "\n",
    "\n",
    "criterion = nn.CrossEntropyLoss().to(device)\n",
    "optimizer = torch.optim.SGD(model.parameters(), lr=lr, momentum=0.9, weight_decay=0.0001)\n",
    "sched = torch.optim.lr_scheduler.CosineAnnealingLR(optimizer, T_max=steps)\n",
    "start_time = time.time()\n",
    "syn_results = []\n",
    "for epoch in range(num_epochs):\n",
    "    model.train()\n",
    "    for images, labels in dataloader:\n",
    "        images, labels = images.to(device), labels.to(device)\n",
    "        output = model(images)\n",
    "        loss = criterion(output, labels)\n",
    "        \n",
    "        optimizer.zero_grad()\n",
    "        loss.backward()\n",
    "        optimizer.step()\n",
    "        sched.step()\n",
    "        \n",
    "    model.eval()\n",
    "    with torch.no_grad():\n",
    "        correct = 0\n",
    "        total = 0\n",
    "        for images, labels in test_MNIST_dataloader:\n",
    "            images, labels = images.to(device), labels.to(device)\n",
    "            output = model(images)\n",
    "            _, predicted = torch.max(output.data, 1)\n",
    "            total += labels.size(0)\n",
    "            correct += (predicted == labels).sum().item()\n",
    "        acc = correct / total\n",
    "        syn_results.append(acc)\n",
    "        print(f\"Epoch [{epoch+1}/{num_epochs}], Accuracy: {acc:.4f}\")\n",
    "\n",
    "print(\"elapsed time: \", time.time() - start_time)"
   ]
  },
  {
   "cell_type": "code",
   "execution_count": 20,
   "metadata": {},
   "outputs": [
    {
     "data": {
      "image/png": "[encoded data removed]",
      "text/plain": [
       "<Figure size 700x500 with 1 Axes>"
      ]
     },
     "metadata": {},
     "output_type": "display_data"
    }
   ],
   "source": [
    "plt.figure(figsize=(7, 5))  # Set figure size\n",
    "\n",
    "# plot AlexNet accuracy results\n",
    "plt.plot(orig_results, label='Original MNIST', color='blue', marker='o')\n",
    "plt.plot(syn_results, label='Synthetic MNIST', color='orange', marker='o')\n",
    "\n",
    "plt.grid(False)\n",
    "plt.xticks(np.arange(0, num_epochs+1, 20))\n",
    "plt.xlabel(\"Epoch\", fontsize=12, fontweight='bold')\n",
    "plt.ylabel(\"Accuracy\", fontsize=12, fontweight='bold')\n",
    "plt.title(\"NAS Best Model with orignal vs synthetic MNIST\", fontsize=14, fontweight='bold')\n",
    "plt.legend(loc='best', fontsize=10)\n",
    "plt.tight_layout()\n",
    "plt.savefig(figures_dir + \"nas_comparision.png\")\n"
   ]
  }
 ],
 "metadata": {
  "kernelspec": {
   "display_name": "base",
   "language": "python",
   "name": "python3"
  },
  "language_info": {
   "codemirror_mode": {
    "name": "ipython",
    "version": 3
   },
   "file_extension": ".py",
   "mimetype": "text/x-python",
   "name": "python",
   "nbconvert_exporter": "python",
   "pygments_lexer": "ipython3",
   "version": "3.10.13"
  }
 },
 "nbformat": 4,
 "nbformat_minor": 2
}
